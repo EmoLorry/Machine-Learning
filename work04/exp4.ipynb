{
 "cells": [
  {
   "cell_type": "markdown",
   "id": "a3e06dd6-cc40-4e1b-96db-53877522327a",
   "metadata": {},
   "source": [
    "# 机器学习实验四：朴素贝叶斯分类器\n",
    "## 罗瑞 2210529"
   ]
  },
  {
   "cell_type": "markdown",
   "id": "86516226-80a7-4855-b62f-73fee7263240",
   "metadata": {},
   "source": [
    "## 基本要求\n",
    "\n",
    "(a)采用分层采样的方式将数据集划分为训练集和测试集 \n",
    "\n",
    "(b)给定编写一个朴素贝叶斯分类器，对测试机进行预测，计算分类准确率\n",
    "\n",
    "## 中级要求\n",
    "使用测试机评估模型，得到混淆矩阵、精度、召回率、F值\n",
    "\n",
    "## 高级要求\n",
    "在中级要求的基础上画出三类数据的ROC曲线，并求出AUC值"
   ]
  },
  {
   "cell_type": "markdown",
   "id": "334647fb-a128-4157-bc57-d6bbdd66a93a",
   "metadata": {},
   "source": [
    "#  **初级要求实现**"
   ]
  },
  {
   "cell_type": "markdown",
   "id": "243363a1-99bd-4d47-95e2-306acd0815bc",
   "metadata": {},
   "source": [
    "## 数据预处理"
   ]
  },
  {
   "cell_type": "markdown",
   "id": "fcc2232c-acad-42ca-81c7-ce20e0b9bdd9",
   "metadata": {},
   "source": [
    "## 本题目变量的特征以及分类信息\n",
    "  The attributes are (dontated by Riccardo Leardi, \n",
    "\triclea@anchem.unige.it )\n",
    " \t1) Alcohol\n",
    " \t2) Malic acid\n",
    " \t3) Ash\n",
    "\t4) Alcalinity of ash  \n",
    " \t5) Magnesium\n",
    "\t6) Total phenols\n",
    " \t7) Flavanoids\n",
    " \t8) Nonflavanoid phenols\n",
    " \t9) Proanthocyanins\n",
    "\t10)Color intensity\n",
    " \t11)Hue\n",
    " \t12)OD280/OD315 of diluted wines\n",
    " \t13)Proline            \n",
    "\n",
    "Number of Instances\n",
    "\n",
    "    class 1 59\n",
    "\tclass 2 71\n",
    "\tclass 3 48\n",
    "\n",
    "  Number of Attributes \n",
    "\t\n",
    "\t13"
   ]
  },
  {
   "cell_type": "markdown",
   "id": "466a1f48-6c65-4f58-acdd-69dfd038fd1e",
   "metadata": {},
   "source": [
    "### 任务（a)读取数据并索引三类别（1，2，3）分层采样划分为训练集和测试集"
   ]
  },
  {
   "cell_type": "code",
   "execution_count": 59,
   "id": "0ef5123c-866c-42cd-a366-d572e5466bec",
   "metadata": {},
   "outputs": [
    {
     "name": "stdout",
     "output_type": "stream",
     "text": [
      "[6, 7, 5]\n",
      "[53, 64, 43]\n",
      "[6, 7, 5]\n"
     ]
    }
   ],
   "source": [
    "# -*- coding: UTF-8 -*-\n",
    "import math\n",
    "import numpy as np  \n",
    "import pandas as pd\n",
    "import random\n",
    "\n",
    "f = open('wine.data','r')\n",
    "types = [[],[],[]]                      #按类分的所有数据\n",
    "test_data = [[],[],[]]\n",
    "train_data = [[],[],[]]\n",
    "data_num = 0                            #数据总数\n",
    "test_len = []                           #测试集里每一类的个数\n",
    "means = [[],[],[]]                      #每一类的均值\n",
    "std = [[],[],[]]                        #每一类的标准差\n",
    "myline = '1'\n",
    "while myline:\n",
    "    myline = f.readline().split(',')\n",
    "    if len(myline) != 14:\n",
    "        break\n",
    "    for t in range(len(myline)):\n",
    "        if t == 0:\n",
    "            myline[t] = int(myline[t])\n",
    "        else:\n",
    "            myline[t] = float(myline[t])\n",
    "    temp = myline.pop(0)\n",
    "    types[temp - 1].append(myline)\n",
    "test_len = [round(len(types[i]) / 10) for i in range(3)]\n",
    "data_num = sum([len(types[i]) for i in range(3)])\n",
    "\n",
    "##分层抽样，训练集：测试集=９：1，在每一类别都成立，下面分类测试集和训练集\n",
    "for i in range(3):\n",
    "    #记录随机选取过的索引的列表\n",
    "    rand = []\n",
    "\n",
    "    while(len(rand) < test_len[i]):\n",
    "        ra = random.randint(1,1000)%len(types[i])\n",
    "        if ra not in rand:\n",
    "            rand.append(ra)\n",
    "            test_data[i].append(types[i][ra])\n",
    "\n",
    "    for j in range (len(types[i])):\n",
    "        if j not in rand:\n",
    "            train_data[i].append(types[i][j])\n",
    "    # print(rand)\n",
    "#打印分层采样的数量结果\n",
    "print(test_len)\n",
    "print([len(train_data[x]) for x in range(3)])\n",
    "print([len(test_data[x]) for x in range(3)])"
   ]
  },
  {
   "cell_type": "markdown",
   "id": "2dc98553-1516-4595-8df4-4d4180d1468d",
   "metadata": {},
   "source": [
    "### 任务(b)在训练集上进行贝叶斯分类的模型训练,对测试集进行预测并输出分类错误个数"
   ]
  },
  {
   "cell_type": "code",
   "execution_count": 64,
   "id": "f668ad3e-70c5-4252-a6d4-ed188d01276d",
   "metadata": {},
   "outputs": [
    {
     "name": "stdout",
     "output_type": "stream",
     "text": [
      "1\n"
     ]
    }
   ],
   "source": [
    "#预测结果列表，用于后续数据展示\n",
    "test_type= [[],[],[]]\n",
    "test_pre = [[],[],[]]\n",
    "\n",
    "#记录y_true列表和对应的预测概率便于后续\n",
    "def bayes_classificate():\n",
    "    # 首先，分别计算训练集上三个类的均值和标准差\n",
    "    means = []\n",
    "    stds = []\n",
    "    \n",
    "    for i in range(3):  # 对于每一个类别\n",
    "        # 计算每个类别的每个属性的均值和标准差\n",
    "        class_data = np.array(train_data[i])  # 将类别数据转为numpy数组，方便计算\n",
    "        means.append(np.mean(class_data, axis=0))  # 计算每个属性的均值\n",
    "        stds.append(np.std(class_data, axis=0))    # 计算每个属性的标准差\n",
    "\n",
    "    #到这里，就获得了基于训练集的统计数据的贝叶斯分布\n",
    "    \n",
    "    wrong_num = 0\n",
    "    \n",
    "    #进行测试\n",
    "    for i in range(3):\n",
    "        for t in test_data[i]:                  #两层循环：从每一类取每一个测试样本\n",
    "            my_type = []\n",
    "            for j in range(3):\n",
    "                #由于数据集中所有的属性都是连续值，连续值的似然估计可以按照高斯分布来计算：\n",
    "                temp = 1\n",
    "                for k in range(len(t)):  # 遍历每个属性\n",
    "                    mean = means[j][k]\n",
    "                    std = stds[j][k]\n",
    "                    # 计算高斯分布概率密度\n",
    "                    tem = (1 / (np.sqrt(2 * np.pi) * std)) * np.exp(-((t[k] - mean) ** 2) / (2 * std ** 2))\n",
    "                    temp *= tem\n",
    "                my_type.append(temp)                        #这里将所有score保存\n",
    "            pre_type = my_type.index(max(my_type))          #取分值最大的为预测类别\n",
    "            test_type[i].append(i)\n",
    "            test_pre[i].append(pre_type)\n",
    "            if pre_type != i:                               #统计错误数\n",
    "                wrong_num+=1\n",
    "    return wrong_num\n",
    "\n",
    "\n",
    "print(bayes_classificate())"
   ]
  },
  {
   "cell_type": "markdown",
   "id": "f45f0414-8d8c-40d5-b5a8-71d3b8ee05b5",
   "metadata": {},
   "source": [
    "分类错误数为１，可见训练集的模型在测试集上几乎全部分类正确"
   ]
  },
  {
   "cell_type": "markdown",
   "id": "aa26c9cc-d6f4-4e13-914c-67be9d9b162f",
   "metadata": {},
   "source": [
    "#  **中级要求实现**"
   ]
  },
  {
   "cell_type": "code",
   "execution_count": 71,
   "id": "001617bb-4b49-40ea-b937-e3d6a37fe52a",
   "metadata": {},
   "outputs": [
    {
     "name": "stdout",
     "output_type": "stream",
     "text": [
      "[[0, 0, 0, 0, 0, 1], [1, 1, 1, 1, 1, 1, 1], [2, 2, 2, 2, 2]]\n",
      "[[0, 0, 0, 0, 0, 0], [1, 1, 1, 1, 1, 1, 1], [2, 2, 2, 2, 2]]\n"
     ]
    }
   ],
   "source": [
    "print(test_pre)\n",
    "print(test_type)"
   ]
  },
  {
   "cell_type": "code",
   "execution_count": 73,
   "id": "aea5213b-4829-449f-b36b-aaeebd3104ce",
   "metadata": {},
   "outputs": [
    {
     "name": "stdout",
     "output_type": "stream",
     "text": [
      "混淆矩阵:\n",
      " [[5 1 0]\n",
      " [0 7 0]\n",
      " [0 0 5]]\n",
      "精度 (Precision): 0.9583333333333334\n",
      "召回率 (Recall): 0.9444444444444445\n",
      "F值 (F1 Score): 0.9474747474747475\n",
      "准确率 (Accuracy): 0.9444444444444444\n"
     ]
    }
   ],
   "source": [
    "# 根据测试集真实标签和预测标签计算其混淆矩阵\n",
    "def compute_confusion_matrix(test_true, test_pred):\n",
    "    # 获取类别数\n",
    "    num_classes = len(test_true)\n",
    "    conf_matrix = np.zeros((num_classes, num_classes), dtype=int)\n",
    "    # print( test_pred)\n",
    "    # 填充混淆矩阵\n",
    "    for true_label, predictions in enumerate(test_pred):\n",
    "        for pred_label in predictions:\n",
    "            conf_matrix[true_label, pred_label] += 1\n",
    "    # print(conf_matrix)\n",
    "    return conf_matrix\n",
    "\n",
    "# 根据混淆矩阵计算每个类别的精度、召回率和 F1 值\n",
    "def compute_metrics(conf_matrix):\n",
    "    \n",
    "    num_classes = conf_matrix.shape[0]\n",
    "    precision = []\n",
    "    recall = []\n",
    "    f1_scores = []\n",
    "    total_correct = 0\n",
    "    total_samples = np.sum(conf_matrix)\n",
    "\n",
    "    for i in range(num_classes):\n",
    "        tp = conf_matrix[i, i]\n",
    "        fp = np.sum(conf_matrix[:, i]) - tp\n",
    "        fn = np.sum(conf_matrix[i, :]) - tp\n",
    "        tn = total_samples - (tp + fp + fn)\n",
    "        \n",
    "        # 精度计算\n",
    "        precision_i = tp / (tp + fp) if (tp + fp) > 0 else 0\n",
    "        precision.append(precision_i)\n",
    "        \n",
    "        # 召回率计算\n",
    "        recall_i = tp / (tp + fn) if (tp + fn) > 0 else 0\n",
    "        recall.append(recall_i)\n",
    "        \n",
    "        # F1 值计算\n",
    "        f1_i = 2 * precision_i * recall_i / (precision_i + recall_i) if (precision_i + recall_i) > 0 else 0\n",
    "        f1_scores.append(f1_i)\n",
    "        \n",
    "        # 记录正确预测的样本数\n",
    "        total_correct += tp\n",
    "\n",
    "    # 宏平均\n",
    "    macro_precision = np.mean(precision)\n",
    "    macro_recall = np.mean(recall)\n",
    "    macro_f1 = np.mean(f1_scores)\n",
    "\n",
    "    # 准确率计算\n",
    "    accuracy = total_correct / total_samples\n",
    "\n",
    "    return macro_precision, macro_recall, macro_f1, accuracy\n",
    "\n",
    "\n",
    "# 计算混淆矩阵\n",
    "conf_matrix = compute_confusion_matrix(test_type,test_pre )\n",
    "print(\"混淆矩阵:\\n\", conf_matrix)\n",
    "\n",
    "# 计算精度、召回率、F 值和准确率\n",
    "precision, recall, f1, accuracy = compute_metrics(conf_matrix)\n",
    "\n",
    "print(f\"精度 (Precision): {precision}\")\n",
    "print(f\"召回率 (Recall): {recall}\")\n",
    "print(f\"F值 (F1 Score): {f1}\")\n",
    "print(f\"准确率 (Accuracy): {accuracy}\")\n",
    "\n"
   ]
  },
  {
   "cell_type": "markdown",
   "id": "5fb4e1ae-6107-4eba-9bd2-29abffbc1512",
   "metadata": {},
   "source": [
    "# **高级要求实现**"
   ]
  },
  {
   "cell_type": "markdown",
   "id": "1d1794e3-a54f-4dd3-b7b8-6a4c5e60f054",
   "metadata": {},
   "source": [
    "在中级要求的基础上画出三类数据的ROC曲线，并求出AUC值"
   ]
  },
  {
   "cell_type": "code",
   "execution_count": 85,
   "id": "53beb331-5790-433b-9dff-be37145d7b7a",
   "metadata": {},
   "outputs": [
    {
     "name": "stdout",
     "output_type": "stream",
     "text": [
      "类别1的AUC为0.986111111111111\n",
      "类别2的AUC为0.9220779220779222\n",
      "类别3的AUC为1.0\n"
     ]
    },
    {
     "data": {
      "image/png": "[encoded data removed]",
      "text/plain": [
       "<Figure size 640x480 with 1 Axes>"
      ]
     },
     "metadata": {},
     "output_type": "display_data"
    }
   ],
   "source": [
    "import numpy as np\n",
    "import matplotlib.pyplot as plt\n",
    "\n",
    "# 假设 test_pre 是一个二维数组，行表示真实类别，列表示模型预测的类别\n",
    "test_pre = [[0, 0, 0, 0, 0, 1], [1, 1, 1, 1, 1, 1, 1], [2, 2, 2, 2, 2]]\n",
    "test_type = [0] * 6 + [1] * 7 + [2] * 5  # 展开后的真实标签\n",
    "\n",
    "# 将 test_pre 转换为 1 维数组\n",
    "pred_labels = [label for row in test_pre for label in row]\n",
    "\n",
    "# 定义类别数\n",
    "num_classes = 3\n",
    "colors = ['b', 'g', 'r']\n",
    "plt.figure()\n",
    "\n",
    "# 对每个类别计算 ROC 曲线\n",
    "for class_label in range(num_classes):\n",
    "    # 将当前类别视为正类，其他类别为负类\n",
    "    binary_true = [1 if label == class_label else 0 for label in test_type]\n",
    "    binary_pred = [1 if label == class_label else 0 for label in pred_labels]\n",
    "    \n",
    "    # 按预测值排序\n",
    "    sorted_indices = np.argsort(binary_pred)[::-1]\n",
    "    sorted_true = [binary_true[i] for i in sorted_indices]\n",
    "\n",
    "    # 正类和负类的总数\n",
    "    m_pos = sum(binary_true)\n",
    "    m_neg = len(binary_true) - m_pos\n",
    "\n",
    "    # 初始化计数器\n",
    "    TP = 0  # 真正例数\n",
    "    FP = 0  # 假正例数\n",
    "    TPR = []  # 真正例率\n",
    "    FPR = []  # 假正例率\n",
    "\n",
    "    # 遍历排序后的标签以调整阈值\n",
    "    for i in range(len(sorted_true)):\n",
    "        if sorted_true[i] == 1:\n",
    "            TP += 1  # 正例被正确分类\n",
    "        else:\n",
    "            FP += 1  # 负例被错误分类\n",
    "        \n",
    "        # 计算当前 TPR 和 FPR\n",
    "        TPR.append(TP / m_pos)\n",
    "        FPR.append(FP / m_neg)\n",
    "\n",
    "     # 使用梯形法则计算 AUC\n",
    "    auc = np.trapz(TPR, FPR) \n",
    "    print(f\"类别{class_label+1}的AUC为{auc}\")\n",
    "    # 绘制当前类别的 ROC 曲线\n",
    "    plt.plot(FPR, TPR, marker='o', color=colors[class_label], label=f\"Class {class_label}\")\n",
    "\n",
    "# 添加对角线\n",
    "plt.plot([0, 1], [0, 1], 'k--')  # 对角线\n",
    "plt.xlabel(\"False Positive Rate\")\n",
    "plt.ylabel(\"True Positive Rate\")\n",
    "plt.title(\"ROC Curve for Each Class\")\n",
    "plt.legend(loc=\"best\")\n",
    "plt.show()\n",
    "\n",
    "plt.show()\n"
   ]
  },
  {
   "cell_type": "markdown",
   "id": "62b66ee2-53b0-4d82-879a-d9cbdf1faf6c",
   "metadata": {},
   "source": [
    "整体上看，这些 AUC 值表明模型在三个类别上的表现都很出色，特别是类别 3。分类性能依次为类别 3 > 类别 1 > 类别 2，但差异不大。"
   ]
  },
  {
   "cell_type": "markdown",
   "id": "79732023-34f1-4897-b9a6-38581c101757",
   "metadata": {},
   "source": [
    "这个计算方式参考了https://blog.csdn.net/qq_46020653/article/details/119613712的方法"
   ]
  }
 ],
 "metadata": {
  "kernelspec": {
   "display_name": "Python 3 (ipykernel)",
   "language": "python",
   "name": "python3"
  },
  "language_info": {
   "codemirror_mode": {
    "name": "ipython",
    "version": 3
   },
   "file_extension": ".py",
   "mimetype": "text/x-python",
   "name": "python",
   "nbconvert_exporter": "python",
   "pygments_lexer": "ipython3",
   "version": "3.9.13"
  }
 },
 "nbformat": 4,
 "nbformat_minor": 5
}
